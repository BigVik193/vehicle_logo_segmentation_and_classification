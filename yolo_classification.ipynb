{
 "cells": [
  {
   "cell_type": "code",
   "execution_count": 1,
   "metadata": {},
   "outputs": [],
   "source": [
    "from ultralytics import YOLO\n",
    "import os\n",
    "import shutil\n",
    "from sklearn.model_selection import train_test_split\n",
    "import numpy as np\n",
    "import cv2\n"
   ]
  },
  {
   "cell_type": "code",
   "execution_count": 2,
   "metadata": {},
   "outputs": [],
   "source": [
    "original_root = './smaller-keras-dataset-300/'\n",
    "new_root = './tvt-yolo-smaller-dataset-300' # tvt = train val test\n"
   ]
  },
  {
   "cell_type": "code",
   "execution_count": 3,
   "metadata": {},
   "outputs": [
    {
     "name": "stdout",
     "output_type": "stream",
     "text": [
      "Dataset split and copied successfully.\n"
     ]
    }
   ],
   "source": [
    "# only train and test\n",
    "\n",
    "# Define the split ratio\n",
    "train_ratio = 0.8\n",
    "\n",
    "# Create the train and test directories\n",
    "for split in ['train', 'validation']:\n",
    "    os.makedirs(os.path.join(new_root, split), exist_ok=True)\n",
    "\n",
    "# Iterate over each class directory in the original dataset\n",
    "for class_dir in os.listdir(original_root):\n",
    "    # Define the paths to the original class directory and the new class directories for train and test\n",
    "    original_class_dir = os.path.join(original_root, class_dir)\n",
    "    train_class_dir = os.path.join(new_root, 'train', class_dir)\n",
    "    test_class_dir = os.path.join(new_root, 'validation', class_dir)\n",
    "\n",
    "    # Create the new class directories under train and test\n",
    "    os.makedirs(train_class_dir, exist_ok=True)\n",
    "    os.makedirs(test_class_dir, exist_ok=True)\n",
    "\n",
    "    # Get all image filenames in the current class directory\n",
    "    images = [img for img in os.listdir(\n",
    "        original_class_dir) if img.lower().endswith(('.png', '.jpg', '.jpeg'))]\n",
    "\n",
    "    # Split the images into train and test sets\n",
    "    train_imgs, test_imgs = train_test_split(images, train_size=train_ratio)\n",
    "\n",
    "    # Copy the images to the new train and test directories\n",
    "    for img in train_imgs:\n",
    "        shutil.copy(os.path.join(original_class_dir, img),\n",
    "                    os.path.join(train_class_dir, img))\n",
    "\n",
    "    for img in test_imgs:\n",
    "        shutil.copy(os.path.join(original_class_dir, img),\n",
    "                    os.path.join(test_class_dir, img))\n",
    "\n",
    "print(\"Dataset split and copied successfully.\")\n"
   ]
  },
  {
   "cell_type": "code",
   "execution_count": 3,
   "metadata": {},
   "outputs": [
    {
     "name": "stdout",
     "output_type": "stream",
     "text": [
      "Dataset split and copied successfully.\n"
     ]
    }
   ],
   "source": [
    "# train validation and test with randomization\n",
    "\n",
    "def split_dataset(source_dir, target_dir, train_ratio=0.7, validation_ratio=0.15, test_ratio=0.15):\n",
    "    classes = os.listdir(source_dir)  # Get all classes\n",
    "\n",
    "    for cls in classes:\n",
    "        cls_dir = os.path.join(source_dir, cls)  # Path to each class directory\n",
    "        images = os.listdir(cls_dir)  # List of images\n",
    "        np.random.shuffle(images)  # Shuffle the images to randomize\n",
    "\n",
    "        # Calculate split indices\n",
    "        total_images = len(images)\n",
    "        train_end = int(total_images * train_ratio)\n",
    "        validation_end = train_end + int(total_images * validation_ratio)\n",
    "\n",
    "        # Split images\n",
    "        train_images = images[:train_end]\n",
    "        validation_images = images[train_end:validation_end]\n",
    "        test_images = images[validation_end:]\n",
    "\n",
    "        # Function to copy files\n",
    "        def copy_files(files, split_type):\n",
    "            split_dir = os.path.join(target_dir, split_type, cls)\n",
    "            # Create directory if not exists\n",
    "            os.makedirs(split_dir, exist_ok=True)\n",
    "            for img in files:\n",
    "                shutil.copy2(os.path.join(cls_dir, img),\n",
    "                             os.path.join(split_dir, img))\n",
    "\n",
    "        # Copy files to their respective directories\n",
    "        copy_files(train_images, 'train')\n",
    "        copy_files(validation_images, 'validation')\n",
    "        copy_files(test_images, 'test')\n",
    "\n",
    "    print(\"Dataset split and copied successfully.\")\n",
    "\n",
    "# Split the dataset\n",
    "split_dataset(original_root, new_root)"
   ]
  },
  {
   "cell_type": "code",
   "execution_count": 4,
   "metadata": {},
   "outputs": [
    {
     "name": "stdout",
     "output_type": "stream",
     "text": [
      "(300, 300, 3)\n"
     ]
    }
   ],
   "source": [
    "img = cv2.imread('./smaller-keras-dataset-300/acura/slic_0aa5a789508cd718fc4cf044352375ed54080b5e.png')\n",
    "\n",
    "print(img.shape)\n"
   ]
  },
  {
   "cell_type": "code",
   "execution_count": 5,
   "metadata": {},
   "outputs": [
    {
     "name": "stdout",
     "output_type": "stream",
     "text": [
      "New https://pypi.org/project/ultralytics/8.1.42 available 😃 Update with 'pip install -U ultralytics'\n",
      "Ultralytics YOLOv8.1.17 🚀 Python-3.9.19 torch-2.2.1 CPU (Apple M1)\n",
      "\u001b[34m\u001b[1mengine/trainer: \u001b[0mtask=classify, mode=train, model=yolov8s-cls.pt, data=./tvt-yolo-smaller-dataset-300/, epochs=25, time=None, patience=100, batch=16, imgsz=300, save=True, save_period=-1, cache=False, device=None, workers=8, project=None, name=train, exist_ok=False, pretrained=True, optimizer=auto, verbose=True, seed=0, deterministic=True, single_cls=False, rect=False, cos_lr=False, close_mosaic=10, resume=False, amp=True, fraction=1.0, profile=False, freeze=None, multi_scale=False, overlap_mask=True, mask_ratio=4, dropout=0.0, val=True, split=val, save_json=False, save_hybrid=False, conf=None, iou=0.7, max_det=300, half=False, dnn=False, plots=True, source=None, vid_stride=1, stream_buffer=False, visualize=False, augment=False, agnostic_nms=False, classes=None, retina_masks=False, embed=None, show=False, save_frames=False, save_txt=False, save_conf=False, save_crop=False, show_labels=True, show_conf=True, show_boxes=True, line_width=None, format=torchscript, keras=False, optimize=False, int8=False, dynamic=False, simplify=False, opset=None, workspace=4, nms=False, lr0=0.01, lrf=0.01, momentum=0.937, weight_decay=0.0005, warmup_epochs=3.0, warmup_momentum=0.8, warmup_bias_lr=0.1, box=7.5, cls=0.5, dfl=1.5, pose=12.0, kobj=1.0, label_smoothing=0.0, nbs=64, hsv_h=0.015, hsv_s=0.7, hsv_v=0.4, degrees=0.0, translate=0.1, scale=0.5, shear=0.0, perspective=0.0, flipud=0.0, fliplr=0.5, mosaic=1.0, mixup=0.0, copy_paste=0.0, auto_augment=randaugment, erasing=0.4, crop_fraction=1.0, cfg=None, tracker=botsort.yaml, save_dir=runs/classify/train\n",
      "\u001b[34m\u001b[1mtrain:\u001b[0m /Users/Vikram/Desktop/ECE420/vehicle_logo_segmentation_and_classification/tvt-yolo-smaller-dataset-300/train... found 952 images in 15 classes ✅ \n",
      "\u001b[34m\u001b[1mval:\u001b[0m /Users/Vikram/Desktop/ECE420/vehicle_logo_segmentation_and_classification/tvt-yolo-smaller-dataset-300/validation... found 200 images in 15 classes ✅ \n",
      "\u001b[34m\u001b[1mtest:\u001b[0m /Users/Vikram/Desktop/ECE420/vehicle_logo_segmentation_and_classification/tvt-yolo-smaller-dataset-300/test... found 222 images in 15 classes ✅ \n",
      "Overriding model.yaml nc=1000 with nc=15\n",
      "\n",
      "                   from  n    params  module                                       arguments                     \n",
      "  0                  -1  1       928  ultralytics.nn.modules.conv.Conv             [3, 32, 3, 2]                 \n",
      "  1                  -1  1     18560  ultralytics.nn.modules.conv.Conv             [32, 64, 3, 2]                \n",
      "  2                  -1  1     29056  ultralytics.nn.modules.block.C2f             [64, 64, 1, True]             \n",
      "  3                  -1  1     73984  ultralytics.nn.modules.conv.Conv             [64, 128, 3, 2]               \n",
      "  4                  -1  2    197632  ultralytics.nn.modules.block.C2f             [128, 128, 2, True]           \n",
      "  5                  -1  1    295424  ultralytics.nn.modules.conv.Conv             [128, 256, 3, 2]              \n",
      "  6                  -1  2    788480  ultralytics.nn.modules.block.C2f             [256, 256, 2, True]           \n",
      "  7                  -1  1   1180672  ultralytics.nn.modules.conv.Conv             [256, 512, 3, 2]              \n",
      "  8                  -1  1   1838080  ultralytics.nn.modules.block.C2f             [512, 512, 1, True]           \n",
      "  9                  -1  1    677135  ultralytics.nn.modules.head.Classify         [512, 15]                     \n",
      "YOLOv8s-cls summary: 99 layers, 5099951 parameters, 5099951 gradients, 12.6 GFLOPs\n",
      "Transferred 156/158 items from pretrained weights\n",
      "\u001b[34m\u001b[1mTensorBoard: \u001b[0mStart with 'tensorboard --logdir runs/classify/train', view at http://localhost:6006/\n",
      "WARNING ⚠️ imgsz=[300] must be multiple of max stride 32, updating to [320]\n"
     ]
    },
    {
     "name": "stderr",
     "output_type": "stream",
     "text": [
      "\u001b[34m\u001b[1mtrain: \u001b[0mScanning /Users/Vikram/Desktop/ECE420/vehicle_logo_segmentation_and_classification/tvt-yolo-smaller-dataset-300/train... 952 images, 0 corrupt: 100%|██████████| 952/952 [00:00<00:00, 4539.04it/s]"
     ]
    },
    {
     "name": "stdout",
     "output_type": "stream",
     "text": [
      "\u001b[34m\u001b[1mtrain: \u001b[0mNew cache created: /Users/Vikram/Desktop/ECE420/vehicle_logo_segmentation_and_classification/tvt-yolo-smaller-dataset-300/train.cache\n"
     ]
    },
    {
     "name": "stderr",
     "output_type": "stream",
     "text": [
      "\n",
      "\u001b[34m\u001b[1mval: \u001b[0mScanning /Users/Vikram/Desktop/ECE420/vehicle_logo_segmentation_and_classification/tvt-yolo-smaller-dataset-300/validation... 200 images, 0 corrupt: 100%|██████████| 200/200 [00:00<00:00, 7758.25it/s]"
     ]
    },
    {
     "name": "stdout",
     "output_type": "stream",
     "text": [
      "\u001b[34m\u001b[1mval: \u001b[0mNew cache created: /Users/Vikram/Desktop/ECE420/vehicle_logo_segmentation_and_classification/tvt-yolo-smaller-dataset-300/validation.cache\n",
      "\u001b[34m\u001b[1moptimizer:\u001b[0m 'optimizer=auto' found, ignoring 'lr0=0.01' and 'momentum=0.937' and determining best 'optimizer', 'lr0' and 'momentum' automatically... \n",
      "\u001b[34m\u001b[1moptimizer:\u001b[0m AdamW(lr=0.000714, momentum=0.9) with parameter groups 26 weight(decay=0.0), 27 weight(decay=0.0005), 27 bias(decay=0.0)\n"
     ]
    },
    {
     "name": "stderr",
     "output_type": "stream",
     "text": [
      "\n"
     ]
    },
    {
     "name": "stdout",
     "output_type": "stream",
     "text": [
      "\u001b[34m\u001b[1mTensorBoard: \u001b[0mmodel graph visualization added ✅\n",
      "Image sizes 320 train, 320 val\n",
      "Using 0 dataloader workers\n",
      "Logging results to \u001b[1mruns/classify/train\u001b[0m\n",
      "Starting training for 25 epochs...\n",
      "\n",
      "      Epoch    GPU_mem       loss  Instances       Size\n"
     ]
    },
    {
     "name": "stderr",
     "output_type": "stream",
     "text": [
      "       1/25         0G      2.502          8        320: 100%|██████████| 60/60 [02:02<00:00,  2.04s/it]\n",
      "               classes   top1_acc   top5_acc: 100%|██████████| 7/7 [00:12<00:00,  1.74s/it]"
     ]
    },
    {
     "name": "stdout",
     "output_type": "stream",
     "text": [
      "                   all      0.285       0.69\n"
     ]
    },
    {
     "name": "stderr",
     "output_type": "stream",
     "text": [
      "\n"
     ]
    },
    {
     "name": "stdout",
     "output_type": "stream",
     "text": [
      "\n",
      "      Epoch    GPU_mem       loss  Instances       Size\n"
     ]
    },
    {
     "name": "stderr",
     "output_type": "stream",
     "text": [
      "       2/25         0G      1.705          8        320: 100%|██████████| 60/60 [02:03<00:00,  2.05s/it]\n",
      "               classes   top1_acc   top5_acc: 100%|██████████| 7/7 [00:14<00:00,  2.05s/it]"
     ]
    },
    {
     "name": "stdout",
     "output_type": "stream",
     "text": [
      "                   all       0.77       0.98\n"
     ]
    },
    {
     "name": "stderr",
     "output_type": "stream",
     "text": [
      "\n"
     ]
    },
    {
     "name": "stdout",
     "output_type": "stream",
     "text": [
      "\n",
      "      Epoch    GPU_mem       loss  Instances       Size\n"
     ]
    },
    {
     "name": "stderr",
     "output_type": "stream",
     "text": [
      "       3/25         0G     0.7146          8        320: 100%|██████████| 60/60 [02:17<00:00,  2.29s/it]\n",
      "               classes   top1_acc   top5_acc: 100%|██████████| 7/7 [00:14<00:00,  2.11s/it]"
     ]
    },
    {
     "name": "stdout",
     "output_type": "stream",
     "text": [
      "                   all       0.94      0.985\n"
     ]
    },
    {
     "name": "stderr",
     "output_type": "stream",
     "text": [
      "\n"
     ]
    },
    {
     "name": "stdout",
     "output_type": "stream",
     "text": [
      "\n",
      "      Epoch    GPU_mem       loss  Instances       Size\n"
     ]
    },
    {
     "name": "stderr",
     "output_type": "stream",
     "text": [
      "       4/25         0G     0.3296          8        320: 100%|██████████| 60/60 [02:11<00:00,  2.19s/it]\n",
      "               classes   top1_acc   top5_acc: 100%|██████████| 7/7 [00:12<00:00,  1.77s/it]"
     ]
    },
    {
     "name": "stdout",
     "output_type": "stream",
     "text": [
      "                   all       0.95       0.99\n"
     ]
    },
    {
     "name": "stderr",
     "output_type": "stream",
     "text": [
      "\n"
     ]
    },
    {
     "name": "stdout",
     "output_type": "stream",
     "text": [
      "\n",
      "      Epoch    GPU_mem       loss  Instances       Size\n"
     ]
    },
    {
     "name": "stderr",
     "output_type": "stream",
     "text": [
      "       5/25         0G     0.2064          8        320: 100%|██████████| 60/60 [02:07<00:00,  2.12s/it]\n",
      "               classes   top1_acc   top5_acc: 100%|██████████| 7/7 [00:12<00:00,  1.79s/it]"
     ]
    },
    {
     "name": "stdout",
     "output_type": "stream",
     "text": [
      "                   all       0.98      0.995\n"
     ]
    },
    {
     "name": "stderr",
     "output_type": "stream",
     "text": [
      "\n"
     ]
    },
    {
     "name": "stdout",
     "output_type": "stream",
     "text": [
      "\n",
      "      Epoch    GPU_mem       loss  Instances       Size\n"
     ]
    },
    {
     "name": "stderr",
     "output_type": "stream",
     "text": [
      "       6/25         0G     0.1796          8        320: 100%|██████████| 60/60 [02:09<00:00,  2.16s/it]\n",
      "               classes   top1_acc   top5_acc: 100%|██████████| 7/7 [00:12<00:00,  1.78s/it]"
     ]
    },
    {
     "name": "stdout",
     "output_type": "stream",
     "text": [
      "                   all      0.975       0.99\n"
     ]
    },
    {
     "name": "stderr",
     "output_type": "stream",
     "text": [
      "\n"
     ]
    },
    {
     "name": "stdout",
     "output_type": "stream",
     "text": [
      "\n",
      "      Epoch    GPU_mem       loss  Instances       Size\n"
     ]
    },
    {
     "name": "stderr",
     "output_type": "stream",
     "text": [
      "       7/25         0G     0.1543          8        320: 100%|██████████| 60/60 [02:12<00:00,  2.21s/it]\n",
      "               classes   top1_acc   top5_acc: 100%|██████████| 7/7 [00:11<00:00,  1.69s/it]"
     ]
    },
    {
     "name": "stdout",
     "output_type": "stream",
     "text": [
      "                   all       0.98      0.995\n"
     ]
    },
    {
     "name": "stderr",
     "output_type": "stream",
     "text": [
      "\n"
     ]
    },
    {
     "name": "stdout",
     "output_type": "stream",
     "text": [
      "\n",
      "      Epoch    GPU_mem       loss  Instances       Size\n"
     ]
    },
    {
     "name": "stderr",
     "output_type": "stream",
     "text": [
      "       8/25         0G     0.1351          8        320: 100%|██████████| 60/60 [02:12<00:00,  2.21s/it]\n",
      "               classes   top1_acc   top5_acc: 100%|██████████| 7/7 [00:12<00:00,  1.74s/it]"
     ]
    },
    {
     "name": "stdout",
     "output_type": "stream",
     "text": [
      "                   all       0.99      0.995\n"
     ]
    },
    {
     "name": "stderr",
     "output_type": "stream",
     "text": [
      "\n"
     ]
    },
    {
     "name": "stdout",
     "output_type": "stream",
     "text": [
      "\n",
      "      Epoch    GPU_mem       loss  Instances       Size\n"
     ]
    },
    {
     "name": "stderr",
     "output_type": "stream",
     "text": [
      "       9/25         0G      0.111          8        320: 100%|██████████| 60/60 [02:06<00:00,  2.10s/it]\n",
      "               classes   top1_acc   top5_acc: 100%|██████████| 7/7 [00:12<00:00,  1.72s/it]"
     ]
    },
    {
     "name": "stdout",
     "output_type": "stream",
     "text": [
      "                   all      0.975          1\n"
     ]
    },
    {
     "name": "stderr",
     "output_type": "stream",
     "text": [
      "\n"
     ]
    },
    {
     "name": "stdout",
     "output_type": "stream",
     "text": [
      "\n",
      "      Epoch    GPU_mem       loss  Instances       Size\n"
     ]
    },
    {
     "name": "stderr",
     "output_type": "stream",
     "text": [
      "      10/25         0G     0.1153          8        320: 100%|██████████| 60/60 [02:14<00:00,  2.25s/it]\n",
      "               classes   top1_acc   top5_acc: 100%|██████████| 7/7 [00:12<00:00,  1.85s/it]"
     ]
    },
    {
     "name": "stdout",
     "output_type": "stream",
     "text": [
      "                   all       0.98       0.99\n",
      "\n",
      "      Epoch    GPU_mem       loss  Instances       Size\n"
     ]
    },
    {
     "name": "stderr",
     "output_type": "stream",
     "text": [
      "\n",
      "      11/25         0G    0.07909          8        320: 100%|██████████| 60/60 [02:13<00:00,  2.22s/it]\n",
      "               classes   top1_acc   top5_acc: 100%|██████████| 7/7 [00:11<00:00,  1.64s/it]"
     ]
    },
    {
     "name": "stdout",
     "output_type": "stream",
     "text": [
      "                   all       0.98      0.995\n",
      "\n",
      "      Epoch    GPU_mem       loss  Instances       Size\n"
     ]
    },
    {
     "name": "stderr",
     "output_type": "stream",
     "text": [
      "\n",
      "      12/25         0G     0.1036          8        320: 100%|██████████| 60/60 [02:13<00:00,  2.22s/it]\n",
      "               classes   top1_acc   top5_acc: 100%|██████████| 7/7 [00:13<00:00,  1.89s/it]"
     ]
    },
    {
     "name": "stdout",
     "output_type": "stream",
     "text": [
      "                   all      0.965      0.985\n",
      "\n",
      "      Epoch    GPU_mem       loss  Instances       Size\n"
     ]
    },
    {
     "name": "stderr",
     "output_type": "stream",
     "text": [
      "\n",
      "      13/25         0G     0.1046          8        320: 100%|██████████| 60/60 [02:16<00:00,  2.27s/it]\n",
      "               classes   top1_acc   top5_acc: 100%|██████████| 7/7 [00:12<00:00,  1.83s/it]"
     ]
    },
    {
     "name": "stdout",
     "output_type": "stream",
     "text": [
      "                   all       0.97       0.99\n",
      "\n",
      "      Epoch    GPU_mem       loss  Instances       Size\n"
     ]
    },
    {
     "name": "stderr",
     "output_type": "stream",
     "text": [
      "\n",
      "      14/25         0G    0.09126          8        320: 100%|██████████| 60/60 [02:12<00:00,  2.21s/it]\n",
      "               classes   top1_acc   top5_acc: 100%|██████████| 7/7 [00:13<00:00,  1.89s/it]"
     ]
    },
    {
     "name": "stdout",
     "output_type": "stream",
     "text": [
      "                   all      0.985      0.995\n"
     ]
    },
    {
     "name": "stderr",
     "output_type": "stream",
     "text": [
      "\n"
     ]
    },
    {
     "name": "stdout",
     "output_type": "stream",
     "text": [
      "\n",
      "      Epoch    GPU_mem       loss  Instances       Size\n"
     ]
    },
    {
     "name": "stderr",
     "output_type": "stream",
     "text": [
      "      15/25         0G    0.06665          8        320: 100%|██████████| 60/60 [02:22<00:00,  2.38s/it]\n",
      "               classes   top1_acc   top5_acc: 100%|██████████| 7/7 [00:16<00:00,  2.34s/it]"
     ]
    },
    {
     "name": "stdout",
     "output_type": "stream",
     "text": [
      "                   all      0.985      0.995\n"
     ]
    },
    {
     "name": "stderr",
     "output_type": "stream",
     "text": [
      "\n"
     ]
    },
    {
     "name": "stdout",
     "output_type": "stream",
     "text": [
      "\n",
      "      Epoch    GPU_mem       loss  Instances       Size\n"
     ]
    },
    {
     "name": "stderr",
     "output_type": "stream",
     "text": [
      "      16/25         0G    0.06261          8        320: 100%|██████████| 60/60 [02:18<00:00,  2.31s/it]\n",
      "               classes   top1_acc   top5_acc: 100%|██████████| 7/7 [00:12<00:00,  1.75s/it]"
     ]
    },
    {
     "name": "stdout",
     "output_type": "stream",
     "text": [
      "                   all       0.99       0.99\n"
     ]
    },
    {
     "name": "stderr",
     "output_type": "stream",
     "text": [
      "\n"
     ]
    },
    {
     "name": "stdout",
     "output_type": "stream",
     "text": [
      "\n",
      "      Epoch    GPU_mem       loss  Instances       Size\n"
     ]
    },
    {
     "name": "stderr",
     "output_type": "stream",
     "text": [
      "      17/25         0G    0.06254          8        320: 100%|██████████| 60/60 [02:18<00:00,  2.31s/it]\n",
      "               classes   top1_acc   top5_acc: 100%|██████████| 7/7 [00:12<00:00,  1.82s/it]"
     ]
    },
    {
     "name": "stdout",
     "output_type": "stream",
     "text": [
      "                   all      0.985      0.995\n"
     ]
    },
    {
     "name": "stderr",
     "output_type": "stream",
     "text": [
      "\n"
     ]
    },
    {
     "name": "stdout",
     "output_type": "stream",
     "text": [
      "\n",
      "      Epoch    GPU_mem       loss  Instances       Size\n"
     ]
    },
    {
     "name": "stderr",
     "output_type": "stream",
     "text": [
      "      18/25         0G    0.07399          8        320: 100%|██████████| 60/60 [02:19<00:00,  2.32s/it]\n",
      "               classes   top1_acc   top5_acc: 100%|██████████| 7/7 [00:12<00:00,  1.74s/it]"
     ]
    },
    {
     "name": "stdout",
     "output_type": "stream",
     "text": [
      "                   all       0.98       0.99\n"
     ]
    },
    {
     "name": "stderr",
     "output_type": "stream",
     "text": [
      "\n"
     ]
    },
    {
     "name": "stdout",
     "output_type": "stream",
     "text": [
      "\n",
      "      Epoch    GPU_mem       loss  Instances       Size\n"
     ]
    },
    {
     "name": "stderr",
     "output_type": "stream",
     "text": [
      "      19/25         0G    0.04417          8        320: 100%|██████████| 60/60 [02:16<00:00,  2.27s/it]\n",
      "               classes   top1_acc   top5_acc: 100%|██████████| 7/7 [00:13<00:00,  1.92s/it]"
     ]
    },
    {
     "name": "stdout",
     "output_type": "stream",
     "text": [
      "                   all      0.985       0.99\n",
      "\n",
      "      Epoch    GPU_mem       loss  Instances       Size\n"
     ]
    },
    {
     "name": "stderr",
     "output_type": "stream",
     "text": [
      "\n",
      "      20/25         0G    0.07367          8        320: 100%|██████████| 60/60 [02:14<00:00,  2.24s/it]\n",
      "               classes   top1_acc   top5_acc: 100%|██████████| 7/7 [00:12<00:00,  1.75s/it]"
     ]
    },
    {
     "name": "stdout",
     "output_type": "stream",
     "text": [
      "                   all       0.98      0.995\n"
     ]
    },
    {
     "name": "stderr",
     "output_type": "stream",
     "text": [
      "\n"
     ]
    },
    {
     "name": "stdout",
     "output_type": "stream",
     "text": [
      "\n",
      "      Epoch    GPU_mem       loss  Instances       Size\n"
     ]
    },
    {
     "name": "stderr",
     "output_type": "stream",
     "text": [
      "      21/25         0G    0.06052          8        320: 100%|██████████| 60/60 [02:13<00:00,  2.22s/it]\n",
      "               classes   top1_acc   top5_acc: 100%|██████████| 7/7 [00:11<00:00,  1.67s/it]"
     ]
    },
    {
     "name": "stdout",
     "output_type": "stream",
     "text": [
      "                   all      0.975       0.99\n"
     ]
    },
    {
     "name": "stderr",
     "output_type": "stream",
     "text": [
      "\n"
     ]
    },
    {
     "name": "stdout",
     "output_type": "stream",
     "text": [
      "\n",
      "      Epoch    GPU_mem       loss  Instances       Size\n"
     ]
    },
    {
     "name": "stderr",
     "output_type": "stream",
     "text": [
      "      22/25         0G    0.04236          8        320: 100%|██████████| 60/60 [02:12<00:00,  2.21s/it]\n",
      "               classes   top1_acc   top5_acc: 100%|██████████| 7/7 [00:12<00:00,  1.82s/it]"
     ]
    },
    {
     "name": "stdout",
     "output_type": "stream",
     "text": [
      "                   all       0.98      0.995\n"
     ]
    },
    {
     "name": "stderr",
     "output_type": "stream",
     "text": [
      "\n"
     ]
    },
    {
     "name": "stdout",
     "output_type": "stream",
     "text": [
      "\n",
      "      Epoch    GPU_mem       loss  Instances       Size\n"
     ]
    },
    {
     "name": "stderr",
     "output_type": "stream",
     "text": [
      "      23/25         0G     0.0598          8        320: 100%|██████████| 60/60 [02:11<00:00,  2.20s/it]\n",
      "               classes   top1_acc   top5_acc: 100%|██████████| 7/7 [00:13<00:00,  1.88s/it]"
     ]
    },
    {
     "name": "stdout",
     "output_type": "stream",
     "text": [
      "                   all      0.985       0.99\n"
     ]
    },
    {
     "name": "stderr",
     "output_type": "stream",
     "text": [
      "\n"
     ]
    },
    {
     "name": "stdout",
     "output_type": "stream",
     "text": [
      "\n",
      "      Epoch    GPU_mem       loss  Instances       Size\n"
     ]
    },
    {
     "name": "stderr",
     "output_type": "stream",
     "text": [
      "      24/25         0G    0.05458          8        320: 100%|██████████| 60/60 [02:14<00:00,  2.23s/it]\n",
      "               classes   top1_acc   top5_acc: 100%|██████████| 7/7 [00:12<00:00,  1.73s/it]"
     ]
    },
    {
     "name": "stdout",
     "output_type": "stream",
     "text": [
      "                   all       0.98      0.995\n"
     ]
    },
    {
     "name": "stderr",
     "output_type": "stream",
     "text": [
      "\n"
     ]
    },
    {
     "name": "stdout",
     "output_type": "stream",
     "text": [
      "\n",
      "      Epoch    GPU_mem       loss  Instances       Size\n"
     ]
    },
    {
     "name": "stderr",
     "output_type": "stream",
     "text": [
      "      25/25         0G    0.04408          8        320: 100%|██████████| 60/60 [02:18<00:00,  2.30s/it]\n",
      "               classes   top1_acc   top5_acc: 100%|██████████| 7/7 [00:13<00:00,  1.94s/it]"
     ]
    },
    {
     "name": "stdout",
     "output_type": "stream",
     "text": [
      "                   all      0.985       0.99\n"
     ]
    },
    {
     "name": "stderr",
     "output_type": "stream",
     "text": [
      "\n"
     ]
    },
    {
     "name": "stdout",
     "output_type": "stream",
     "text": [
      "\n",
      "25 epochs completed in 1.017 hours.\n",
      "Optimizer stripped from runs/classify/train/weights/last.pt, 10.3MB\n",
      "Optimizer stripped from runs/classify/train/weights/best.pt, 10.3MB\n",
      "\n",
      "Validating runs/classify/train/weights/best.pt...\n",
      "Ultralytics YOLOv8.1.17 🚀 Python-3.9.19 torch-2.2.1 CPU (Apple M1)\n",
      "YOLOv8s-cls summary (fused): 73 layers, 5094415 parameters, 0 gradients, 12.5 GFLOPs\n",
      "\u001b[34m\u001b[1mtrain:\u001b[0m /Users/Vikram/Desktop/ECE420/vehicle_logo_segmentation_and_classification/tvt-yolo-smaller-dataset-300/train... found 952 images in 15 classes ✅ \n",
      "\u001b[34m\u001b[1mval:\u001b[0m /Users/Vikram/Desktop/ECE420/vehicle_logo_segmentation_and_classification/tvt-yolo-smaller-dataset-300/validation... found 200 images in 15 classes ✅ \n",
      "\u001b[34m\u001b[1mtest:\u001b[0m /Users/Vikram/Desktop/ECE420/vehicle_logo_segmentation_and_classification/tvt-yolo-smaller-dataset-300/test... found 222 images in 15 classes ✅ \n"
     ]
    },
    {
     "name": "stderr",
     "output_type": "stream",
     "text": [
      "               classes   top1_acc   top5_acc: 100%|██████████| 7/7 [00:12<00:00,  1.84s/it]\n"
     ]
    },
    {
     "name": "stdout",
     "output_type": "stream",
     "text": [
      "                   all       0.99      0.995\n",
      "Speed: 0.0ms preprocess, 60.1ms inference, 0.0ms loss, 0.0ms postprocess per image\n",
      "Results saved to \u001b[1mruns/classify/train\u001b[0m\n",
      "Results saved to \u001b[1mruns/classify/train\u001b[0m\n"
     ]
    }
   ],
   "source": [
    "# model = YOLO('yolov8s-cls.yaml')  # build a new model from YAML\n",
    "# # load a pretrained model (recommended for training)\n",
    "model = YOLO('yolov8s-cls.pt')\n",
    "# # build from YAML and transfer weights\n",
    "# model = YOLO('yolov8n-cls.yaml').load('yolov8n-cls.pt')\n",
    "\n",
    "# Train the model\n",
    "results = model.train(data='./tvt-yolo-smaller-dataset-300/', epochs=25, imgsz=300)\n"
   ]
  },
  {
   "cell_type": "code",
   "execution_count": 6,
   "metadata": {},
   "outputs": [
    {
     "name": "stdout",
     "output_type": "stream",
     "text": [
      "Ultralytics YOLOv8.1.17 🚀 Python-3.9.19 torch-2.2.1 CPU (Apple M1)\n",
      "YOLOv8s-cls summary (fused): 73 layers, 5094415 parameters, 0 gradients, 12.5 GFLOPs\n",
      "\u001b[34m\u001b[1mtrain:\u001b[0m /Users/Vikram/Desktop/ECE420/vehicle_logo_segmentation_and_classification/tvt-yolo-smaller-dataset-300/train... found 952 images in 15 classes ✅ \n",
      "\u001b[34m\u001b[1mval:\u001b[0m /Users/Vikram/Desktop/ECE420/vehicle_logo_segmentation_and_classification/tvt-yolo-smaller-dataset-300/validation... found 200 images in 15 classes ✅ \n",
      "\u001b[34m\u001b[1mtest:\u001b[0m /Users/Vikram/Desktop/ECE420/vehicle_logo_segmentation_and_classification/tvt-yolo-smaller-dataset-300/test... found 222 images in 15 classes ✅ \n"
     ]
    },
    {
     "name": "stderr",
     "output_type": "stream",
     "text": [
      "\u001b[34m\u001b[1mval: \u001b[0mScanning /Users/Vikram/Desktop/ECE420/vehicle_logo_segmentation_and_classification/tvt-yolo-smaller-dataset-300/validation... 200 images, 0 corrupt: 100%|██████████| 200/200 [00:00<?, ?it/s]\n",
      "               classes   top1_acc   top5_acc: 100%|██████████| 13/13 [00:13<00:00,  1.01s/it]\n"
     ]
    },
    {
     "name": "stdout",
     "output_type": "stream",
     "text": [
      "                   all       0.99      0.995\n",
      "Speed: 0.0ms preprocess, 61.5ms inference, 0.0ms loss, 0.0ms postprocess per image\n",
      "Results saved to \u001b[1mruns/classify/val\u001b[0m\n"
     ]
    },
    {
     "data": {
      "text/plain": [
       "0.9950000047683716"
      ]
     },
     "execution_count": 6,
     "metadata": {},
     "output_type": "execute_result"
    }
   ],
   "source": [
    "model = YOLO('yolov8s-cls.pt')\n",
    "model = YOLO('./runs/classify/train_300_b/weights/best.pt')  # load a custom model\n",
    "\n",
    "# Validate the model\n",
    "metrics = model.val()  # no arguments needed, dataset and settings remembered\n",
    "metrics.top1   # top1 accuracy\n",
    "metrics.top5   # top5 accuracy\n"
   ]
  }
 ],
 "metadata": {
  "kernelspec": {
   "display_name": "Python 3.9.19",
   "language": "python",
   "name": "python3"
  },
  "language_info": {
   "codemirror_mode": {
    "name": "ipython",
    "version": 3
   },
   "file_extension": ".py",
   "mimetype": "text/x-python",
   "name": "python",
   "nbconvert_exporter": "python",
   "pygments_lexer": "ipython3",
   "version": "3.9.19"
  },
  "orig_nbformat": 4,
  "vscode": {
   "interpreter": {
    "hash": "64244b250754a3f8e8205a211d13f144021dae835c24d8896021255863f1110c"
   }
  }
 },
 "nbformat": 4,
 "nbformat_minor": 2
}
