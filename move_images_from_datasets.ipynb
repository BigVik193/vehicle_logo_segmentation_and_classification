{
 "cells": [
  {
   "cell_type": "code",
   "execution_count": 18,
   "metadata": {},
   "outputs": [],
   "source": [
    "import numpy as np\n",
    "import cv2\n",
    "from tensorflow import keras\n",
    "import os\n",
    "import pandas as pd\n",
    "import shutil"
   ]
  },
  {
   "cell_type": "code",
   "execution_count": 33,
   "metadata": {},
   "outputs": [],
   "source": [
    "dataset_path = './vehicle-logos-dataset/'\n",
    "csv_path = './vehicle-logos-dataset/structure.csv'"
   ]
  },
  {
   "cell_type": "code",
   "execution_count": 34,
   "metadata": {},
   "outputs": [],
   "source": [
    "df = pd.read_csv(csv_path)"
   ]
  },
  {
   "cell_type": "code",
   "execution_count": 35,
   "metadata": {},
   "outputs": [],
   "source": [
    "for idx, row in df.iterrows():\n",
    "    brand_name = row['Template Name']\n",
    "    image = row['Image']\n",
    "    mask = row['Mask']\n",
    "\n",
    "    brand_name = brand_name.split(' ')[0].lower()\n",
    "    \n",
    "    dir = f'./logo-dataset/{brand_name}'\n",
    "    if not os.path.exists(dir):\n",
    "      os.makedirs(dir)\n",
    "\n",
    "    orig_img_path = os.path.join(dataset_path, image)\n",
    "    dest_img_path = os.path.join(dir, 'images')\n",
    "\n",
    "    if not os.path.exists(dest_img_path):\n",
    "      os.makedirs(dest_img_path)\n",
    "\n",
    "    orig_mask_path = os.path.join(dataset_path, mask)\n",
    "    dest_mask_path = os.path.join(dir, 'masks')\n",
    "\n",
    "    if not os.path.exists(dest_mask_path):\n",
    "      os.makedirs(dest_mask_path)\n",
    "\n",
    "    shutil.copy(orig_img_path, os.path.join(dir, image))\n",
    "    shutil.copy(orig_mask_path, os.path.join(dir, mask))\n",
    "\n",
    "    # print(dir, orig_img_path, dest_img_path, new_img_path, orig_mask_path, dest_mask_path, new_mask_path)"
   ]
  },
  {
   "cell_type": "code",
   "execution_count": 39,
   "metadata": {},
   "outputs": [],
   "source": [
    "dataset_path = './Car_Brand_Logos/'\n",
    "\n",
    "for root, dirs, files in os.walk(dataset_path):\n",
    "    for file in files:\n",
    "        # Split the path into parts\n",
    "        path_parts = root.split(os.sep)\n",
    "\n",
    "        brand_name = path_parts[-1]\n",
    "        dest_dir = f'./logo-dataset/{brand_name}/images'\n",
    "\n",
    "        if not os.path.exists(dest_dir):\n",
    "            os.makedirs(dest_dir)\n",
    "            print(f'made {dest_dir}')\n",
    "\n",
    "        shutil.copy(os.path.join(root, file), os.path.join(dest_dir, file))\n",
    "\n",
    "        # print(os.path.join(root, file), os.path.join(dest_dir, file))\n",
    "\n",
    "        # print(path_parts, root, file)\n"
   ]
  }
 ],
 "metadata": {
  "kernelspec": {
   "display_name": "Python 3.9.19",
   "language": "python",
   "name": "python3"
  },
  "language_info": {
   "codemirror_mode": {
    "name": "ipython",
    "version": 3
   },
   "file_extension": ".py",
   "mimetype": "text/x-python",
   "name": "python",
   "nbconvert_exporter": "python",
   "pygments_lexer": "ipython3",
   "version": "3.9.19"
  },
  "orig_nbformat": 4,
  "vscode": {
   "interpreter": {
    "hash": "64244b250754a3f8e8205a211d13f144021dae835c24d8896021255863f1110c"
   }
  }
 },
 "nbformat": 4,
 "nbformat_minor": 2
}
