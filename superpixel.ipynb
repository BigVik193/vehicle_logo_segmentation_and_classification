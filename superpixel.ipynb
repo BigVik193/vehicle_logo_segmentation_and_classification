{
 "cells": [
  {
   "cell_type": "code",
   "execution_count": 3,
   "metadata": {},
   "outputs": [],
   "source": [
    "import numpy as np\n",
    "import math"
   ]
  },
  {
   "cell_type": "code",
   "execution_count": 2,
   "metadata": {},
   "outputs": [],
   "source": [
    "def find_closest_centroid(data_point, centroids):\n",
    "    \"\"\"Find the index of the closest centroid to a given data point.\"\"\"\n",
    "    closest_index = None\n",
    "    closest_distance = float('inf')\n",
    "    for i, centroid in enumerate(centroids):\n",
    "        # Assuming find_dist is your function\n",
    "        distance = find_dist(data_point, centroid)\n",
    "        if distance < closest_distance:\n",
    "            closest_distance = distance\n",
    "            closest_index = i\n",
    "    return closest_index\n",
    "\n",
    "\n",
    "def k_means(k, imgs, iterations):\n",
    "    \"\"\"Perform K-means clustering.\"\"\"\n",
    "    num_images = imgs.shape[0]\n",
    "    num_dimensions = imgs.shape[1]\n",
    "\n",
    "    # Randomly initialize centroids\n",
    "    centroids = imgs[np.random.choice(num_images, k, replace=False)]\n",
    "\n",
    "    for _ in range(iterations):\n",
    "        # Assign each data point to the nearest centroid\n",
    "        assignments = np.array(\n",
    "            [find_closest_centroid(img, centroids) for img in imgs])\n",
    "\n",
    "        # Update centroids\n",
    "        for i in range(k):\n",
    "            cluster_points = imgs[assignments == i]\n",
    "            if len(cluster_points) > 0:\n",
    "                centroids[i] = np.mean(cluster_points, axis=0)\n",
    "\n",
    "    return centroids, assignments\n",
    "\n",
    "\n",
    "def find_dist(x1, x2):\n",
    "    d_c = math.sqrt((x1[0] - x2[0])**2 + (x1[1] - x2[1])\n",
    "                    ** 2 + (x1[2] - x2[2])**2)\n",
    "    d_s = math.sqrt((x1[3] - x2[3])**2 + (x1[4] - x2[4])**2)\n",
    "    N = 100  # population\n",
    "    S = math.sqrt(N/k)\n",
    "    m = 1  # change value to properly weight distances\n",
    "    D = math.sqrt(d_c ** 2 + (((d_s/S)**2) * m**2))\n",
    "    return D\n"
   ]
  }
 ],
 "metadata": {
  "kernelspec": {
   "display_name": "Python 3.9.19",
   "language": "python",
   "name": "python3"
  },
  "language_info": {
   "codemirror_mode": {
    "name": "ipython",
    "version": 3
   },
   "file_extension": ".py",
   "mimetype": "text/x-python",
   "name": "python",
   "nbconvert_exporter": "python",
   "pygments_lexer": "ipython3",
   "version": "3.9.19"
  },
  "orig_nbformat": 4,
  "vscode": {
   "interpreter": {
    "hash": "64244b250754a3f8e8205a211d13f144021dae835c24d8896021255863f1110c"
   }
  }
 },
 "nbformat": 4,
 "nbformat_minor": 2
}
