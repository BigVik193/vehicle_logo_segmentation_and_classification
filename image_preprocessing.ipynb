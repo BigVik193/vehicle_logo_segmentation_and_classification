{
 "cells": [
  {
   "cell_type": "code",
   "execution_count": 14,
   "metadata": {},
   "outputs": [],
   "source": [
    "import cv2\n",
    "import numpy as np\n",
    "import matplotlib.pyplot as plt\n",
    "import os"
   ]
  },
  {
   "cell_type": "code",
   "execution_count": 15,
   "metadata": {},
   "outputs": [],
   "source": [
    "def resize_and_pad_images(root_dir, target_size=(512, 512), pad_color=(255, 255, 255)):\n",
    "    \"\"\"\n",
    "    Resize images found in root_dir and its subdirectories to target_size,\n",
    "    maintaining the aspect ratio and padding with white to reach the target size.\n",
    "\n",
    "    Parameters:\n",
    "    - root_dir: The root directory to search for images.\n",
    "    - target_size: A tuple of (width, height) for the target image size.\n",
    "    - pad_color: The color used for padding (default is white).\n",
    "    \"\"\"\n",
    "    for subdir, dirs, files in os.walk(root_dir):\n",
    "        for file in files:\n",
    "            try:\n",
    "                file_path = os.path.join(subdir, file)\n",
    "\n",
    "                img = cv2.imread(file_path)\n",
    "\n",
    "                if img is not None: # ensure loading\n",
    "                    # maintain aspect ratio\n",
    "                    scale = min(target_size[0] / img.shape[1],\n",
    "                                target_size[1] / img.shape[0])\n",
    "                    resized_img = cv2.resize(img, (0, 0), fx=scale, fy=scale)\n",
    "\n",
    "                    top = (target_size[1] - resized_img.shape[0]) // 2\n",
    "                    bottom = target_size[1] - resized_img.shape[0] - top\n",
    "                    left = (target_size[0] - resized_img.shape[1]) // 2\n",
    "                    right = target_size[0] - resized_img.shape[1] - left\n",
    "\n",
    "                    # pad with white\n",
    "                    padded_img = cv2.copyMakeBorder(\n",
    "                        resized_img, top, bottom, left, right, cv2.BORDER_CONSTANT, value=pad_color)\n",
    "\n",
    "                    cv2.imwrite(file_path, padded_img)\n",
    "                    # print(f\"Processed {file_path}\")\n",
    "            except Exception as e:\n",
    "                print(f\"Failed to process {file_path}: {e}\")\n"
   ]
  },
  {
   "cell_type": "code",
   "execution_count": 16,
   "metadata": {},
   "outputs": [],
   "source": [
    "# Usage example\n",
    "resize_and_pad_images('./logo-dataset/')\n"
   ]
  }
 ],
 "metadata": {
  "kernelspec": {
   "display_name": "Python 3.9.19",
   "language": "python",
   "name": "python3"
  },
  "language_info": {
   "codemirror_mode": {
    "name": "ipython",
    "version": 3
   },
   "file_extension": ".py",
   "mimetype": "text/x-python",
   "name": "python",
   "nbconvert_exporter": "python",
   "pygments_lexer": "ipython3",
   "version": "3.9.19"
  },
  "orig_nbformat": 4,
  "vscode": {
   "interpreter": {
    "hash": "64244b250754a3f8e8205a211d13f144021dae835c24d8896021255863f1110c"
   }
  }
 },
 "nbformat": 4,
 "nbformat_minor": 2
}
